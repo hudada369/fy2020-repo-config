{
  "nbformat": 4,
  "nbformat_minor": 0,
  "metadata": {
    "colab": {
      "name": "Untitled0.ipynb",
      "provenance": [],
      "collapsed_sections": [],
      "machine_shape": "hm",
      "mount_file_id": "1ly1vXkikKZlQUqDSvngMTHcKoRCuwdHs",
      "authorship_tag": "ABX9TyPT0UXevrxyClGQIh6VZSNK",
      "include_colab_link": true
    },
    "kernelspec": {
      "name": "python3",
      "display_name": "Python 3"
    },
    "language_info": {
      "name": "python"
    }
  },
  "cells": [
    {
      "cell_type": "markdown",
      "metadata": {
        "id": "view-in-github",
        "colab_type": "text"
      },
      "source": [
        "<a href=\"https://colab.research.google.com/github/hudada369/fy2020-repo-config/blob/master/Pytorch_01.ipynb\" target=\"_parent\"><img src=\"https://colab.research.google.com/assets/colab-badge.svg\" alt=\"Open In Colab\"/></a>"
      ]
    },
    {
      "cell_type": "markdown",
      "source": [
        ""
      ],
      "metadata": {
        "id": "d3lh3LTpHscF"
      }
    },
    {
      "cell_type": "markdown",
      "source": [
        "1. 张量的简介与创建（张量及各种创建方式）；\n",
        "2. 张量的基本操作（张量的切分，拼接，索引，变换，数学运算）；\n",
        "3. 玩一个简单的线性回归模型；\n",
        "4. 总结梳理。"
      ],
      "metadata": {
        "id": "Q6_l1DpimHCB"
      }
    },
    {
      "cell_type": "markdown",
      "source": [
        "概念：是多维数组，标量（0维张量），向量（1维度），矩阵的多维扩展\n",
        "Variable 是 torch.autograd 中的数据类型，现在并入了tensor中\n",
        "Tensor的属性包括：\n",
        "1. data（被包装的 Tensor）, \n",
        "2. dtype（张量的数据类型，如 torch.FloatTensor，torch.cuda.FloatTensor，用的最多的一般是 float32 和 int64(torch.long)）, \n",
        "3. shape, （张量的形状，如 (64, 3, 224, 224)）\n",
        "4. device(与数据有关)  \n",
        "5. requires_grad, （指示是否需要梯度，有的不需要梯度）\n",
        "6. grad, （data 的梯度）\n",
        "7. grad_fn, （fn 表示 function 的意思，记录我么创建的创建张量时用到的方法，比如说加法、乘法，这个操作在求导过程需要用到，Tensor 的 Function，是自动求导的关键；）\n",
        "8. is_leaf（指示是否是叶子节点（张量））\n"
      ],
      "metadata": {
        "id": "yH0mZJ-UmQGV"
      }
    },
    {
      "cell_type": "markdown",
      "source": [
        "**创建方式：** size传入是括号的形式（3，3）矩阵 （3，）一维张量\n",
        "1. 直接创建 torch.tensor(data,dtype = None,device = None,requeires_grad = False,pinmemory = False) data可以是list,也可以是numpy dtype 这个是指明数据类型，默认与 data 的一致。device 是指明所在的设备  注意：numpy转为tensor需要 torch.from_numpy(ndarry) tensor与原numpy 共享内存\n",
        "2.  依据数值创建，依据size创建大小，torch.zeros(*size,out=None,layout=tensor.strides,device=None,requires_grad=False) layout 是在内粗你的布局形式 **out**是输出张量，将其赋值给另外一个张量，两个张量指向同一个内存\n",
        "3. torch.zeros_like(input, dtype=None, layout=None, device=None, requires_grad=False)：这个是创建与 **input** 同形状的全 0 张量   torch.ones(), torch.ones_like()  # 没like就是输出，like的input是另外的张量，取它的形状\n",
        "4. torch.full(size,full_value,剩下参数和上面一致) fill_value是要填充的值 torch.full_like()\n",
        "5. torch.arange(start,end,step,out,dtype,layout,device,requeires_grad) 创建等差(左闭右开)的张量与numpy一样 \n",
        "6. torch.linspace(参数中steps)：创建均分的 1 维张量， 数值区间 [start, end] 注意这里都是闭区间，和上面的区分 （steps不是步长，而是数列长度） (end-start) / (steps-1)\n",
        "7. torch.logspace(base = 10) 对数均分数列 base应该是底数，剩下的参数和lin一样\n",
        "8. torch.eye(n,m,out，剩余的参数和zeros一样)：创建单位对角矩阵，默认是方阵，n和m对应行数，列数\n",
        "9. 依据概率分布创建张量 torch.normal(mean,std,sieze,out=None)：生成正态分布（高斯分布）， 这个使用的比较多,mean和std分别可以是标量或者张量，所以可以得到4种情况\n",
        "10. 标准正态分布，标准正态分布：torch.**randn**(*size,剩余的参数和zeros一样), torch.randn_like()\n",
        "11. 均匀分布 torch.rand() rand.like() torch.randint(low,high,size,out...) randint_like(low=0,high,size,out...)区间 [low,hight) 生成整数均匀分布」\n",
        "12. 「torch.randperm(n)：生成从 0 - n-1 的随机排列, n 是张量的长度, **经常用来生成一个乱序索引**。 」\n",
        "13. 「torch.bernoulli(input)：以 input 为概率，生成伯努利分布 (0-1 分布，两点分布）， input：概率值」\n"
      ],
      "metadata": {
        "id": "PuNo0apBse7D"
      }
    },
    {
      "cell_type": "markdown",
      "source": [
        ""
      ],
      "metadata": {
        "id": "GLlX6U0hsfHu"
      }
    },
    {
      "cell_type": "markdown",
      "source": [
        ""
      ],
      "metadata": {
        "id": "afrDC0VZsfKW"
      }
    },
    {
      "cell_type": "code",
      "source": [
        "import torch\n",
        "import numpy as np"
      ],
      "metadata": {
        "id": "LHYHuGzBji3b"
      },
      "execution_count": 2,
      "outputs": []
    },
    {
      "cell_type": "code",
      "source": [
        "a = False\n",
        "if a:\n",
        "  print(2)"
      ],
      "metadata": {
        "id": "8od6xLhOAupD"
      },
      "execution_count": 14,
      "outputs": []
    },
    {
      "cell_type": "code",
      "source": [
        "arr = np.ones((3,3))\n",
        "print(arr,arr.dtype)"
      ],
      "metadata": {
        "colab": {
          "base_uri": "https://localhost:8080/"
        },
        "id": "ggtUODHMji_d",
        "outputId": "762de5d4-a32f-46cc-bcce-7f5404e02edb"
      },
      "execution_count": 11,
      "outputs": [
        {
          "output_type": "stream",
          "name": "stdout",
          "text": [
            "[[1. 1. 1.]\n",
            " [1. 1. 1.]\n",
            " [1. 1. 1.]] float64\n"
          ]
        }
      ]
    },
    {
      "cell_type": "code",
      "source": [
        "t = torch.tensor(arr,device = 'cuda')\n",
        "print(t)\n",
        "#不是一个地址"
      ],
      "metadata": {
        "colab": {
          "base_uri": "https://localhost:8080/"
        },
        "id": "zMWZKxMhjjB6",
        "outputId": "4f5f545a-5c20-451c-869c-8efa3db4a9cc"
      },
      "execution_count": 25,
      "outputs": [
        {
          "output_type": "stream",
          "name": "stdout",
          "text": [
            "tensor([[10,  2,  3],\n",
            "        [ 4,  5,  6]], device='cuda:0')\n"
          ]
        }
      ]
    },
    {
      "cell_type": "code",
      "source": [
        "arr = np.array([[1,2,3],[4,5,6]])\n",
        "tor = torch.from_numpy(arr)\n",
        "# 两者共享同一个内存\n",
        "arr[0][0] = 10\n",
        "print(id(arr),id(tor)) # 虽然地址不一样\n",
        "print(arr,tor)"
      ],
      "metadata": {
        "colab": {
          "base_uri": "https://localhost:8080/"
        },
        "id": "SSSdF51yjjEX",
        "outputId": "9de6543b-de6c-43ce-8523-3f0f40d29a14"
      },
      "execution_count": 18,
      "outputs": [
        {
          "output_type": "stream",
          "name": "stdout",
          "text": [
            "140248616474832 140248616474960\n",
            "[[10  2  3]\n",
            " [ 4  5  6]] tensor([[10,  2,  3],\n",
            "        [ 4,  5,  6]])\n"
          ]
        }
      ]
    },
    {
      "cell_type": "code",
      "source": [
        "t1 = torch.tensor(3)\n",
        "tor = torch.zeros((3,3),out = t1)\n",
        "print(tor,t1)\n",
        "# 内存地址是一样的\n",
        "print(id(t1),id(tor))"
      ],
      "metadata": {
        "colab": {
          "base_uri": "https://localhost:8080/"
        },
        "id": "BCNNg_avjjGc",
        "outputId": "3f082136-c2d0-4e26-c729-7ac8a2f830f4"
      },
      "execution_count": 20,
      "outputs": [
        {
          "output_type": "stream",
          "name": "stdout",
          "text": [
            "tensor([[0, 0, 0],\n",
            "        [0, 0, 0],\n",
            "        [0, 0, 0]]) tensor([[0, 0, 0],\n",
            "        [0, 0, 0],\n",
            "        [0, 0, 0]])\n",
            "140248616611568 140248616611568\n"
          ]
        }
      ]
    },
    {
      "cell_type": "code",
      "source": [
        "t1 = torch.from_numpy(np.array([[1,2,3],[4,5,6]]))\n",
        "t2 = torch.zeros_like(t1)\n",
        "print(t1,t2) # 创建的是和相同形状大小的0张量\n"
      ],
      "metadata": {
        "colab": {
          "base_uri": "https://localhost:8080/"
        },
        "id": "2ni3Ye-ewkzM",
        "outputId": "b0835fee-ffed-4dd9-c6ff-f99a7e66ba58"
      },
      "execution_count": 21,
      "outputs": [
        {
          "output_type": "stream",
          "name": "stdout",
          "text": [
            "tensor([[1, 2, 3],\n",
            "        [4, 5, 6]]) tensor([[0, 0, 0],\n",
            "        [0, 0, 0]])\n"
          ]
        }
      ]
    },
    {
      "cell_type": "code",
      "source": [
        "t = torch.full((3,3),5)\n",
        "print(t)\n",
        "t = torch.tensor([1,2,3])\n",
        "t = torch.full_like(t,6)\n",
        "print(t)"
      ],
      "metadata": {
        "colab": {
          "base_uri": "https://localhost:8080/"
        },
        "id": "3YJH8kI_wk1e",
        "outputId": "8f97eacb-d704-4783-f9d2-7c04d6a706c1"
      },
      "execution_count": 26,
      "outputs": [
        {
          "output_type": "stream",
          "name": "stdout",
          "text": [
            "tensor([[5, 5, 5],\n",
            "        [5, 5, 5],\n",
            "        [5, 5, 5]])\n",
            "tensor([6, 6, 6])\n"
          ]
        }
      ]
    },
    {
      "cell_type": "code",
      "source": [
        "print(torch.arange(1,10,2))\n",
        "print(torch.linspace(1,10,5))\n",
        "print(torch.logspace(1,10,4,10))\n"
      ],
      "metadata": {
        "colab": {
          "base_uri": "https://localhost:8080/"
        },
        "id": "MjorapBlwk36",
        "outputId": "cdaf4159-42ac-4507-b6de-499ac31339fa"
      },
      "execution_count": 5,
      "outputs": [
        {
          "output_type": "stream",
          "name": "stdout",
          "text": [
            "tensor([1, 3, 5, 7, 9])\n",
            "tensor([ 1.0000,  3.2500,  5.5000,  7.7500, 10.0000])\n",
            "tensor([1.0000e+01, 1.0000e+04, 1.0000e+07, 1.0000e+10])\n"
          ]
        }
      ]
    },
    {
      "cell_type": "code",
      "source": [
        "torch.eye(3)"
      ],
      "metadata": {
        "colab": {
          "base_uri": "https://localhost:8080/"
        },
        "id": "YLIAuITu7XaW",
        "outputId": "b091bbc3-537b-4d8d-b299-753eac48cd51"
      },
      "execution_count": 6,
      "outputs": [
        {
          "output_type": "execute_result",
          "data": {
            "text/plain": [
              "tensor([[1., 0., 0.],\n",
              "        [0., 1., 0.],\n",
              "        [0., 0., 1.]])"
            ]
          },
          "metadata": {},
          "execution_count": 6
        }
      ]
    },
    {
      "cell_type": "code",
      "source": [
        "# 概率分布， 要给定张量的数据类型，float才可以\n",
        "# mean std两者均为标量 从同一个分布抽取size大小的值\n",
        "torch.normal(0,1,size = (4,))\n",
        "# 一个为标量 一个为张量\n",
        "# mean是标量 std是张量 会根据方差的形状大小，产生同样多个分布，每一个分布的均值都是那个标量\n",
        "std = torch.arange(1,5,dtype = torch.float)\n",
        "print(std.dtype)\n",
        "normal2 = torch.normal(1,std)\n",
        "print(normal2)\n",
        "# mean是张量 std是标量 也会根据均值的形状大小，产生同样多个方差相同的分布，从这几个分布中分别取一个值作为结果\n",
        "mean = torch.arange(1,5,dtype = torch.float)\n",
        "print(mean.dtype)\n",
        "normal3 = torch.normal(mean,2)\n",
        "print(normal3)\n",
        "# 两者均为张量 需要均值的个数和方差的个数一样多，分别产生这么多个正太分布，从这里面抽取一个值\n",
        "mean = torch.arange(1,5,dtype = torch.float)\n",
        "std = torch.arange(1,5,dtype = torch.float)\n",
        "# 对应位置的分布\n",
        "normal4 = torch.normal(mean,std)\n",
        "print(normal4)"
      ],
      "metadata": {
        "colab": {
          "base_uri": "https://localhost:8080/"
        },
        "id": "XxmznB3Zwk6P",
        "outputId": "3f91403f-7be5-4c54-8a21-0746b4b529cc"
      },
      "execution_count": 11,
      "outputs": [
        {
          "output_type": "stream",
          "name": "stdout",
          "text": [
            "torch.float32\n",
            "tensor([-0.0151,  1.1706,  1.1583,  9.3500])\n",
            "torch.float32\n",
            "tensor([ 1.1078, -0.1917,  0.8910,  5.7010])\n",
            "tensor([1.3314, 2.4447, 5.8934, 2.7634])\n"
          ]
        }
      ]
    },
    {
      "cell_type": "code",
      "source": [
        "# 标注正太分布\n",
        "t = torch.randn((3,))\n",
        "print(t)\n",
        "t1 = torch.arange(1,6,2)\n",
        "t3 = torch.randn_like(t1,dtype = torch.float)\n",
        "print(t1,t3)\n",
        "# 均匀分布 rand是0，1之间\n",
        "t = torch.rand((1,2))\n",
        "t1 = torch.rand_like(t1,dtype=torch.float)\n",
        "print(t,t1)\n",
        "# 整数均匀分布\n",
        "t = torch.randint(0,5,size=(3,),dtype=torch.float)\n",
        "print(t)\n",
        "# 随机排列分布,乱序索引，参数只能是int 代表张量长度\n",
        "t = torch.randperm(5)\n",
        "print(t)"
      ],
      "metadata": {
        "colab": {
          "base_uri": "https://localhost:8080/"
        },
        "id": "sLb_qww6wk8a",
        "outputId": "f21f321d-c4d5-45a7-d590-5b824e03f74c"
      },
      "execution_count": 25,
      "outputs": [
        {
          "output_type": "stream",
          "name": "stdout",
          "text": [
            "tensor([ 1.1397,  0.5378, -0.2602])\n",
            "tensor([1, 3, 5]) tensor([-0.6003, -1.3230,  0.4388])\n",
            "tensor([[0.9731, 0.9473]]) tensor([0.7280, 0.6148, 0.1060])\n",
            "tensor([2., 4., 4.])\n",
            "tensor([0, 4, 1, 3, 2])\n"
          ]
        }
      ]
    },
    {
      "cell_type": "markdown",
      "source": [
        "### **张量的操作**  拼接，切分，索引和变换以及数学运算\n",
        "1. 拼接 stack 会新创建一个维度，然后完成拼接 \n",
        " 1. 「torch.**cat**(tensors, dim=0, out=None)：将张量按**维度 dim 进行拼接**, tensors 表示张量序列， dim 要拼接的维度」\n",
        " 2. 「torch.**stack**(tensors, dim=0, out=None)：在**新创建的维度 dim 上进行拼接**， tensors 表示张量序列， dim 要拼接的维度」\n",
        " 3. 0 是行拼接 1是列拼接\n",
        "2. 切分 张量的切分 \n",
        " 1. **torch.chunk(input, chunks, dim=0)：将张量按维度 dim 进行平均切分，返回值是*张量列表*，注意，如果不能整除， 最后一份张量小于其他张量。chunks 代表要切分的维度。**\n",
        " 2. 「torch.split(tensor, split_size_or_sections, dim=0)：这个也是将张量按维度 dim 切分，但是这个更加强大，**可以指定切分的长度**，split_size_or_sections 为 int 时表示每一份的长度， 为 list 时，按 list 元素切分」但是保证list的长度是那个切分维度的长度\n",
        "\n",
        "3. 张量的索引「torch.index_select(input, dim, index, out=None)：在维度 dim 上，按 index 索引数据，返回值，以 index 索引数据拼接的张量。」\n",
        "\n",
        "4. 「torch.masked_select(input, mask, out=None)：按 mask 中的 True 进行索引，返回值：一维张量。input 表示要索引的张量，mask 表示与 input 同形状的布尔类型的张量。这种情况在选择符合某些特定条件的元素的时候非常好使」，注意这个是返回一维的张量 mask是bool 大小和input一样的形状 返回的是mask中值为True的对应位置的元素一维张量\n",
        "\n",
        "5. 张量的变换  「torch.reshape(input, shape)：变换张量的形状，这个很常用，input 表示要变换的张量，shape表示新张量的形状。但注意，当张量在内存中是连续时，新张量与input共享数据内存」 **shape=(-1,4,2) 第一个-1不知道是否必须**\n",
        "  1. 张量的交换 「torch.transpose(input, dim0, dim1)：交换张量的两个维度, 矩阵的转置常用， 在图像的预处理中常用， dim0 要交换的维度， dim1 表示要交换的问题」\n",
        "  2. 「torch.t(input)：2 维张量的转置， 对矩阵而言，相当于 torch.transpose(inpuot, 0,1)」\n",
        "\n",
        "6. 「torch.squeeze(input, dim=None, out=None)：压缩长度为 1 的维度， dim 若为 None，移除所有长度为 1 的轴，若指定维度，当且仅当该轴长度为 1 时可以被移除」 \n",
        "  1. 「torch.unsqueeze(input, dim, out=None)：依据 dim 扩展维度」"
      ],
      "metadata": {
        "id": "T59uH2lDEPZ7"
      }
    },
    {
      "cell_type": "code",
      "source": [
        "# cat是在原基础上拼接，浮点数类型拼接才可以，long 类型拼接会报错\n",
        "t=torch.tensor([[1,2,3],[4,5,6]])\n",
        "print(\"t的shape是：\",t.shape)\n",
        "new_t=torch.cat((t,t),dim=0)\n",
        "print(new_t,t.shape,new_t.shape)\n",
        "# stack 是根据给定的维度新增了一个新的维度，在这个新维度上进行拼接，这个 .stack \n",
        "# 与其说是从新维度上拼接，不太好理解，其实是新加了一个维度 Z 轴，只不过 dim=0 和 dim=1 的视角不同罢了。dim=0 是横向看，dim=1 是纵向看\n",
        "new_t1 = torch.stack((t,t,t),dim=0)\n",
        "new_t2 = torch.stack((t,t,t),dim=1)\n",
        "print(new_t1,new_t1.shape)\n",
        "print(new_t2,new_t2.shape)"
      ],
      "metadata": {
        "colab": {
          "base_uri": "https://localhost:8080/"
        },
        "id": "J_6oZSafwk-3",
        "outputId": "fa07bdfb-a247-4942-9f4d-eb5cc95dc6d2"
      },
      "execution_count": 30,
      "outputs": [
        {
          "output_type": "stream",
          "name": "stdout",
          "text": [
            "t的shape是： torch.Size([2, 3])\n",
            "tensor([[1, 2, 3],\n",
            "        [4, 5, 6],\n",
            "        [1, 2, 3],\n",
            "        [4, 5, 6]]) torch.Size([2, 3]) torch.Size([4, 3])\n",
            "tensor([[[1, 2, 3],\n",
            "         [4, 5, 6]],\n",
            "\n",
            "        [[1, 2, 3],\n",
            "         [4, 5, 6]],\n",
            "\n",
            "        [[1, 2, 3],\n",
            "         [4, 5, 6]]]) torch.Size([3, 2, 3])\n",
            "tensor([[[1, 2, 3],\n",
            "         [1, 2, 3],\n",
            "         [1, 2, 3]],\n",
            "\n",
            "        [[4, 5, 6],\n",
            "         [4, 5, 6],\n",
            "         [4, 5, 6]]]) torch.Size([2, 3, 3])\n"
          ]
        }
      ]
    },
    {
      "cell_type": "code",
      "source": [
        "a = torch.ones((2,7))\n",
        "# 给定划分个数，以及维度\n",
        "torch_tensor = torch.chunk(a,chunks=3,dim=1)\n",
        "print(torch_tensor)\n",
        "# split 是给定划分的长度（长度也可以通过列表设置） 以及维度\n",
        "torch_tensor1 = torch.split(a,split_size_or_sections=3,dim=1)\n",
        "print(torch_tensor1)"
      ],
      "metadata": {
        "colab": {
          "base_uri": "https://localhost:8080/"
        },
        "id": "VvweJWlYwlBe",
        "outputId": "b2f2a349-4d3d-4a4e-a4c0-04b0d675c678"
      },
      "execution_count": 8,
      "outputs": [
        {
          "output_type": "stream",
          "name": "stdout",
          "text": [
            "(tensor([[1., 1., 1.],\n",
            "        [1., 1., 1.]]), tensor([[1., 1., 1.],\n",
            "        [1., 1., 1.]]), tensor([[1.],\n",
            "        [1.]]))\n",
            "(tensor([[1., 1., 1.],\n",
            "        [1., 1., 1.]]), tensor([[1., 1., 1.],\n",
            "        [1., 1., 1.]]), tensor([[1.],\n",
            "        [1.]]))\n"
          ]
        }
      ]
    },
    {
      "cell_type": "code",
      "source": [
        "# index_select 在维度索引\n",
        "a = torch.randint(0,9,size = (3,3))\n",
        "print(\"a:\",a)\n",
        "idx = torch.tensor([0,2],dtype=torch.long) #这里需要是long类型 float过不了\n",
        "indx_ten = torch.index_select(a,dim=1,index = idx)\n",
        "print(indx_ten)\n",
        "# masked_select 按照mask中的True索引，返回一维张量，mask和input的形状是一样的\n",
        "# t.ge(5) >=5 le() <= gt> lt<\n",
        "mask = a.ge(5)\n",
        "print(mask)\n",
        "ind = torch.masked_select(a,mask)\n",
        "print(ind)"
      ],
      "metadata": {
        "colab": {
          "base_uri": "https://localhost:8080/"
        },
        "id": "tqZb85UBsFqb",
        "outputId": "cf0e6471-9baf-4b06-b49b-372d2688b243"
      },
      "execution_count": 14,
      "outputs": [
        {
          "output_type": "stream",
          "name": "stdout",
          "text": [
            "a: tensor([[7, 5, 0],\n",
            "        [8, 7, 0],\n",
            "        [1, 2, 1]])\n",
            "tensor([[7, 0],\n",
            "        [8, 0],\n",
            "        [1, 1]])\n",
            "tensor([[ True,  True, False],\n",
            "        [ True,  True, False],\n",
            "        [False, False, False]])\n",
            "tensor([7, 5, 8, 7])\n"
          ]
        }
      ]
    },
    {
      "cell_type": "code",
      "source": [
        "# reshape t和t_tensor是共享内存的\n",
        "t = torch.randperm(8)\n",
        "print(t)\n",
        "t_tensor = torch.reshape(t,shape=(-1,4,2))\n",
        "print(\"t_tesnor:\",t_tensor)\n",
        "# transpose\n",
        "t = torch.rand((2,3,4))\n",
        "print(t,t.shape)\n",
        "t_tensor = torch.transpose(t,dim0=1,dim1=2)\n",
        "print(\"t_tensor:\",t_tensor,t_tensor.shape)\n",
        "# troch.t 二维转置\n",
        "t = torch.rand((2,3))\n",
        "print(t,t.shape)\n",
        "t_tensor = torch.t(t)\n",
        "print(\"t_tensor:\",t_tensor,t_tensor.shape)"
      ],
      "metadata": {
        "colab": {
          "base_uri": "https://localhost:8080/"
        },
        "id": "s2DTX849sFyo",
        "outputId": "f9771c81-07f6-46c8-cec8-d137762eb374"
      },
      "execution_count": 24,
      "outputs": [
        {
          "output_type": "stream",
          "name": "stdout",
          "text": [
            "tensor([6, 3, 0, 4, 1, 7, 5, 2])\n",
            "t_tesnor: tensor([[[6, 3],\n",
            "         [0, 4],\n",
            "         [1, 7],\n",
            "         [5, 2]]])\n",
            "tensor([[[0.9280, 0.6586, 0.0381, 0.8449],\n",
            "         [0.0300, 0.1526, 0.2061, 0.4123],\n",
            "         [0.3656, 0.2635, 0.5037, 0.2615]],\n",
            "\n",
            "        [[0.0818, 0.6446, 0.0796, 0.6990],\n",
            "         [0.1969, 0.3755, 0.8533, 0.6700],\n",
            "         [0.6178, 0.1113, 0.4883, 0.1038]]]) torch.Size([2, 3, 4])\n",
            "t_tensor: tensor([[[0.9280, 0.0300, 0.3656],\n",
            "         [0.6586, 0.1526, 0.2635],\n",
            "         [0.0381, 0.2061, 0.5037],\n",
            "         [0.8449, 0.4123, 0.2615]],\n",
            "\n",
            "        [[0.0818, 0.1969, 0.6178],\n",
            "         [0.6446, 0.3755, 0.1113],\n",
            "         [0.0796, 0.8533, 0.4883],\n",
            "         [0.6990, 0.6700, 0.1038]]]) torch.Size([2, 4, 3])\n",
            "tensor([[0.4052, 0.5011, 0.4588],\n",
            "        [0.3924, 0.7506, 0.0966]]) torch.Size([2, 3])\n",
            "t_tensor: tensor([[0.4052, 0.3924],\n",
            "        [0.5011, 0.7506],\n",
            "        [0.4588, 0.0966]]) torch.Size([3, 2])\n"
          ]
        }
      ]
    },
    {
      "cell_type": "code",
      "source": [
        "# squeeze 压缩长度为1的维度\n",
        "t = torch.rand((1,2,3,1))\n",
        "t_sq = torch.squeeze(t)\n",
        "print(t_sq,t_sq.shape)\n",
        "# 压缩的维度可以指定,如果不是1就不压缩\n",
        "t_sq = torch.squeeze(t,dim=0)\n",
        "print(t_sq,t_sq.shape)\n",
        "# unsqueeze 扩充维度\n",
        "t_s1 = torch.unsqueeze(t_sq,dim=0)\n",
        "print(t_s1,t_s1.shape)"
      ],
      "metadata": {
        "colab": {
          "base_uri": "https://localhost:8080/"
        },
        "id": "9cjM_rJg0gZ-",
        "outputId": "1bfb63e8-a1cb-47b0-b7fa-f78af0ae5236"
      },
      "execution_count": 28,
      "outputs": [
        {
          "output_type": "stream",
          "name": "stdout",
          "text": [
            "tensor([[0.2700, 0.2643, 0.5487],\n",
            "        [0.1172, 0.5680, 0.9336]]) torch.Size([2, 3])\n",
            "tensor([[[0.2700],\n",
            "         [0.2643],\n",
            "         [0.5487]],\n",
            "\n",
            "        [[0.1172],\n",
            "         [0.5680],\n",
            "         [0.9336]]]) torch.Size([2, 3, 1])\n",
            "tensor([[[[0.2700],\n",
            "          [0.2643],\n",
            "          [0.5487]],\n",
            "\n",
            "         [[0.1172],\n",
            "          [0.5680],\n",
            "          [0.9336]]]]) torch.Size([1, 2, 3, 1])\n"
          ]
        }
      ]
    },
    {
      "cell_type": "markdown",
      "source": [
        ""
      ],
      "metadata": {
        "id": "ie3b9LnCxoHd"
      }
    },
    {
      "cell_type": "markdown",
      "source": [
        "## **张量的数学运算**\n",
        "\n",
        "1. 加减乘除，对数指数幂函数，三角函数 \n",
        "  1. **torch.add(input, alpha=1, other, out=None)：逐元素计算input+alpha * other。注意人家这里有个 alpha，叫做乘项因子。类似权重的个东西。**这个东西让计算变得更加简洁， 比如线性回归我们知道有个 y = wx + b， 在这里直接一行代码torch.add(b, w, x) 就搞定。类似的还有两个方法：\n",
        "  2. torch.addcdiv(input, value=1, tensor1, tensor2, out=None)。这个实现了\n",
        "  input + value*(tensor1/tensor2)\n",
        "  3. torch.addcmul(input, value=1, tensor1, tensor2, out=None)：这个实现了\n",
        "  input + value*tensor1*tensor2\n",
        "  4. sub（减法） div（除法） mul(乘法) "
      ],
      "metadata": {
        "id": "T2z2egN1xoMI"
      }
    },
    {
      "cell_type": "code",
      "source": [
        "t = torch.rand((4,))# 一维张量就是向量\n",
        "t1 = torch.reshape(t,shape=(4,1)) \n",
        "print(t,t1)\n",
        "t2 = torch.ones_like(t)\n",
        "print(t2)\n",
        "t2 = torch.add(t,10,t2)\n",
        "print(t2)"
      ],
      "metadata": {
        "colab": {
          "base_uri": "https://localhost:8080/"
        },
        "id": "iXwDI4S_8LSp",
        "outputId": "cac60f8c-1b58-4662-c9e8-86964183b602"
      },
      "execution_count": 33,
      "outputs": [
        {
          "output_type": "stream",
          "name": "stdout",
          "text": [
            "tensor([0.3631, 0.5902, 0.0387, 0.4572]) tensor([[0.3631],\n",
            "        [0.5902],\n",
            "        [0.0387],\n",
            "        [0.4572]])\n",
            "tensor([1., 1., 1., 1.])\n",
            "tensor([10.3631, 10.5902, 10.0387, 10.4572])\n"
          ]
        },
        {
          "output_type": "stream",
          "name": "stderr",
          "text": [
            "/usr/local/lib/python3.7/dist-packages/ipykernel_launcher.py:6: UserWarning: This overload of add is deprecated:\n",
            "\tadd(Tensor input, Number alpha, Tensor other, *, Tensor out)\n",
            "Consider using one of the following signatures instead:\n",
            "\tadd(Tensor input, Tensor other, *, Number alpha, Tensor out) (Triggered internally at  ../torch/csrc/utils/python_arg_parser.cpp:1050.)\n",
            "  \n"
          ]
        }
      ]
    },
    {
      "cell_type": "code",
      "source": [
        "# 现行回归实现\n",
        "x = torch.rand(20,1)*10\n",
        "y = 2*x + (5 + torch.randn((20,1)))\n",
        "\n",
        "lr = 10**-3\n",
        "\n",
        "#构建线性回归的参数 需要求梯度\n",
        "w = torch.rand((1),requires_grad=True)  \n",
        "b = torch.zeros((1),requires_grad=True)\n",
        "\n",
        "for iter in range(100):\n",
        "  # 前向传播\n",
        "  wx = torch.mul(w,x)\n",
        "  y_pred = torch.add(wx,b)\n",
        "\n",
        "  # 计算loss\n",
        "  loss = (0.5 *(y-y_pred)**2).mean()\n",
        "\n",
        "  # 反向传播\n",
        "  loss.backward()\n",
        "\n",
        "  # g更新参数 # 这种_的加法操作时从自身减，相当于-=\n",
        "  b.data.sub_(lr * b.grad) \n",
        "  w.data.sub_(lr * w.grad)\n",
        "\n",
        "  # 梯度清零\n",
        "  w.grad.data.zero_()\n",
        "  b.grad.data.zero_()\n",
        "  \n",
        "  # rint(w.data, b.data)\n",
        "import matplotlib.pyplot as plt\n",
        "plt.plot(x,y)\n",
        "# plt.show(x,w.data*x+b.data)"
      ],
      "metadata": {
        "colab": {
          "base_uri": "https://localhost:8080/",
          "height": 282
        },
        "id": "vANyzFSH8-Gs",
        "outputId": "1b1f8ffe-b66e-40e0-edd4-a64105318399"
      },
      "execution_count": 40,
      "outputs": [
        {
          "output_type": "execute_result",
          "data": {
            "text/plain": [
              "[<matplotlib.lines.Line2D at 0x7f68bd4c50d0>]"
            ]
          },
          "metadata": {},
          "execution_count": 40
        },
        {
          "output_type": "display_data",
          "data": {
            "text/plain": [
              "<Figure size 432x288 with 1 Axes>"
            ],
            "image/png": "[encoded data removed]"
          },
          "metadata": {
            "needs_background": "light"
          }
        }
      ]
    },
    {
      "cell_type": "code",
      "source": [
        "from google.colab import drive\n",
        "drive.mount('/content/drive')\n",
        "!pip install transformers datasets accelerate \n",
        "import pandas as pd\n",
        "import numpy as np\n",
        "from sklearn.model_selection import train_test_split\n",
        "\n",
        "# 直接利用外部的数据集划分为训练集和验证集，不使用比赛的数据集进行预训练\n",
        "\n",
        "df = pd.read_csv(\"/content/drive/MyDrive/Colab Notebooks/train.csv\")\n",
        "df['severe_toxic'] = df.severe_toxic * 2\n",
        "# 进行标签相加\n",
        "df['y'] = (df[['toxic', 'severe_toxic', 'obscene', 'threat',\n",
        "       'insult', 'identity_hate']].sum(axis = 1)).astype(int)\n",
        "df['y'] = df['y'] / df['y'].max()\n",
        "df = df.rename(columns = {'comment_text':'exceprt'})\n",
        "df = df[['exceprt','y']]\n",
        "df.sample(5)\n",
        "print(len(df))\n",
        "df.to_csv(f'/content/sample_data/train.csv', index=False)\n",
        "# df_train,df_test = train_test_split(df,test_size = 0.3,random_state=2)\n",
        "# df_train.to_csv(f'/kaggle/working/train.csv', index=False)\n",
        "# df_test.to_csv(f'/kaggle/working/test.csv', index=False)\n",
        "train = pd.read_csv('/content/sample_data/train.csv')\n",
        "test = pd.read_csv('/content/drive/MyDrive/Colab Notebooks/comments_to_score.csv')\n",
        "\n",
        "mlm_data = train[['exceprt']]\n",
        "mlm_data = mlm_data.rename(columns={'exceprt':'text'})\n",
        "mlm_data.to_csv('mlm_data.csv', index=False)\n",
        "\n",
        "mlm_data_val = test[['text']]\n",
        "mlm_data_val = mlm_data_val.rename(columns={'text':'text'})\n",
        "mlm_data_val.to_csv('mlm_data_val.csv', index=False)\n",
        "import argparse\n",
        "import logging\n",
        "import math\n",
        "import os\n",
        "import random\n",
        "\n",
        "\n",
        "import datasets\n",
        "from datasets import load_dataset\n",
        "from tqdm.auto import tqdm\n",
        "from accelerate import Accelerator\n",
        "\n",
        "import torch\n",
        "from torch.utils.data import DataLoader\n",
        "\n",
        "import transformers\n",
        "from transformers import (\n",
        "    CONFIG_MAPPING, \n",
        "    MODEL_MAPPING, \n",
        "    AdamW, \n",
        "    AutoConfig, \n",
        "    AutoModelForMaskedLM, \n",
        "    AutoTokenizer, \n",
        "    DataCollatorForLanguageModeling, \n",
        "    SchedulerType, \n",
        "    get_scheduler, \n",
        "    set_seed\n",
        ")\n",
        "\n",
        "# getlogger日志模块对象，日志输出，等级是从debug-critical从低到高，setlevel是设置日志输出等级\n",
        "logger = logging.getLogger(__name__)\n",
        "\n",
        "MODEL_CONFIG_CLASSES = list(MODEL_MAPPING.keys())\n",
        "MODEL_TYPES = tuple(conf.model_type for conf in MODEL_CONFIG_CLASSES)\n",
        "\n",
        "# from pprint import pprint\n",
        "# pprint(MODEL_TYPES, width=3, compact=True)\n",
        "class TrainConfig:\n",
        "    train_file= 'mlm_data.csv'\n",
        "    validation_file = 'mlm_data.csv'\n",
        "    validation_split_percentage= 5\n",
        "    pad_to_max_length= True\n",
        "    model_name_or_path= 'roberta-base'\n",
        "    config_name= 'roberta-base'\n",
        "    tokenizer_name= 'roberta-base'\n",
        "    use_slow_tokenizer= True\n",
        "    per_device_train_batch_size= 4\n",
        "    per_device_eval_batch_size= 4\n",
        "    learning_rate= 5e-5\n",
        "    weight_decay= 0.0\n",
        "    num_train_epochs= 1 # change to 5\n",
        "    max_train_steps= None\n",
        "    gradient_accumulation_steps= 1\n",
        "    lr_scheduler_type= 'constant_with_warmup'\n",
        "    num_warmup_steps= 0\n",
        "    output_dir= 'output'\n",
        "    seed= 2021\n",
        "    model_type= 'roberta'\n",
        "    max_seq_length= None\n",
        "    line_by_line= False\n",
        "    preprocessing_num_workers= 4\n",
        "    overwrite_cache= True\n",
        "    mlm_probability= 0.15\n",
        "\n",
        "config = TrainConfig()\n",
        "\n",
        "if config.train_file is not None:\n",
        "    # 拿到文件名的后缀，然后声明\n",
        "    extension = config.train_file.split(\".\")[-1]\n",
        "    assert extension in [\"csv\", \"json\", \"txt\"], \"`train_file` should be a csv, json or txt file.\"\n",
        "if config.validation_file is not None:\n",
        "    extension = config.validation_file.split(\".\")[-1]\n",
        "    assert extension in [\"csv\", \"json\", \"txt\"], \"`validation_file` should be a csv, json or txt file.\"\n",
        "if config.output_dir is not None:\n",
        "    # 递归创建目录，第一个参数是path \n",
        "    os.makedirs(config.output_dir, exist_ok=True)\n",
        "    def main():\n",
        "    args = TrainConfig()\n",
        "    accelerator = Accelerator()\n",
        "    # 上面已经初始化了函数，logging.basicConfig函数中，可以指定日志的输出格式format，这个参数可以输出很多有用的信息\n",
        "    logging.basicConfig(\n",
        "        format=\"%(asctime)s - %(levelname)s - %(name)s -   %(message)s\",\n",
        "        datefmt=\"%m/%d/%Y %H:%M:%S\",\n",
        "        level=logging.INFO,\n",
        "    )\n",
        "    logger.info(accelerator.state)\n",
        "    logger.setLevel(logging.INFO if accelerator.is_local_main_process else logging.ERROR)\n",
        "\n",
        "    if accelerator.is_local_main_process:\n",
        "        datasets.utils.logging.set_verbosity_warning()\n",
        "        transformers.utils.logging.set_verbosity_info()\n",
        "    else:\n",
        "        datasets.utils.logging.set_verbosity_error()\n",
        "        transformers.utils.logging.set_verbosity_error()\n",
        "    if args.seed is not None:\n",
        "        set_seed(args.seed)\n",
        "\n",
        "    data_files = {}\n",
        "    if args.train_file is not None:\n",
        "        data_files[\"train\"] = args.train_file\n",
        "    if args.validation_file is not None:\n",
        "        data_files[\"validation\"] = args.validation_file\n",
        "    extension = args.train_file.split(\".\")[-1]\n",
        "    if extension == \"txt\":\n",
        "        extension = \"text\"\n",
        "    # 加载数据，训练和测试集，字典表示\n",
        "    raw_datasets = load_dataset(extension, data_files=data_files)\n",
        "    \n",
        "    # 这部分是加载模型的判断\n",
        "    if args.config_name:\n",
        "    # transformers.AutoConfig 使用类方法 from_pretrained 加载模型配置，参数既可以为模型名称，也可以为具体文件。\n",
        "        config = AutoConfig.from_pretrained(args.config_name)\n",
        "    elif config.model_name_or_path:\n",
        "        config = AutoConfig.from_pretrained(args.model_name_or_path)\n",
        "    else:\n",
        "        # 使用 CONFIG_MAPPING 是避免if-else语句过多，\n",
        "        config = CONFIG_MAPPING[args.model_type]()\n",
        "        logger.warning(\"You are instantiating a new config instance from scratch.\")\n",
        "\n",
        "    if args.tokenizer_name:\n",
        "        tokenizer = AutoTokenizer.from_pretrained(args.tokenizer_name, use_fast=not args.use_slow_tokenizer)\n",
        "    elif args.model_name_or_path:\n",
        "        tokenizer = AutoTokenizer.from_pretrained(args.model_name_or_path, use_fast=not args.use_slow_tokenizer)\n",
        "    else:\n",
        "        raise ValueError(\n",
        "            \"You are instantiating a new tokenizer from scratch. This is not supported by this script.\"\n",
        "            \"You can do it from another script, save it, and load it from here, using --tokenizer_name.\"\n",
        "        )\n",
        "    \n",
        "    if args.model_name_or_path:\n",
        "        #  ForMaskedLM  看一下MLM这些模型，屏蔽语言模型\n",
        "        model = AutoModelForMaskedLM.from_pretrained(\n",
        "            \n",
        "            args.model_name_or_path,\n",
        "            from_tf=bool(\".ckpt\" in args.model_name_or_path),\n",
        "            config=config,\n",
        "        )\n",
        "    else:\n",
        "        logger.info(\"Training new model from scratch\")\n",
        "        model = AutoModelForMaskedLM.from_config(config)\n",
        "    \n",
        "    # new_tokens = ['COVID', 'hospitalization']  num_added_toks = tokenizer.add_tokens(new_tokens)\n",
        "    # 在模型中添加自己文件中的token，通过model.resize_token_embeddings方法，随机初始化了一个权重，\n",
        "    # 保存添加后的词汇：tokenizer.savepretrained  再次加载模型就会自动读取增加后的词汇。\n",
        "    model.resize_token_embeddings(len(tokenizer))\n",
        "\n",
        "    column_names = raw_datasets[\"train\"].column_names\n",
        "    \n",
        "    text_column_name = \"text\" if \"text\" in column_names else column_names[0]\n",
        "\n",
        "    if args.max_seq_length is None:\n",
        "        max_seq_length = tokenizer.model_max_length\n",
        "        if max_seq_length > 1024:\n",
        "            logger.warning(\n",
        "                f\"The tokenizer picked seems to have a very large `model_max_length` ({tokenizer.model_max_length}). \"\n",
        "                \"Picking 1024 instead. You can change that default value by passing --max_seq_length xxx.\"\n",
        "            )\n",
        "            max_seq_length = 1024\n",
        "    else:\n",
        "        if args.max_seq_length > tokenizer.model_max_length:\n",
        "            logger.warning(\n",
        "                f\"The max_seq_length passed ({args.max_seq_length}) is larger than the maximum length for the\"\n",
        "                f\"model ({tokenizer.model_max_length}). Using max_seq_length={tokenizer.model_max_length}.\"\n",
        "            )\n",
        "        max_seq_length = min(args.max_seq_length, tokenizer.model_max_length)\n",
        "\n",
        "    def tokenize_function(examples):\n",
        "        # 对新的任务进行 分词，\n",
        "        return tokenizer(examples[text_column_name], return_special_tokens_mask=True)\n",
        "    \n",
        "    # 得到分词之后的数据集，经过分词之后返回的是带有 input_ids、attention_mask 和 token_type_ids的字典格式\n",
        "    # 使用Dataset.map方法，可以使数据仍返回数据集的格式，而不是字典的形式，这样可以继续对数据集进行预处理，而不是直接得到向量化的结果\n",
        "    # 分词器处理成对的句子列表，如前所述。 这将允许我们在调用 map 时使用选项 batched=True，这将大大加快向量化 实现批量化的分词\n",
        "    tokenized_datasets = raw_datasets.map(\n",
        "        tokenize_function,\n",
        "        batched=True,\n",
        "        num_proc=args.preprocessing_num_workers,\n",
        "        remove_columns=column_names,\n",
        "        load_from_cache_file=not args.overwrite_cache,\n",
        "    )\n",
        "\n",
        "    # 重新进行数据预处理的过程\n",
        "    def group_texts(examples):\n",
        "        concatenated_examples = {k: sum(examples[k], []) for k in examples.keys()}\n",
        "        total_length = len(concatenated_examples[list(examples.keys())[0]])\n",
        "        total_length = (total_length // max_seq_length) * max_seq_length\n",
        "        result = {\n",
        "            k: [t[i : i + max_seq_length] for i in range(0, total_length, max_seq_length)]\n",
        "            for k, t in concatenated_examples.items()\n",
        "        }\n",
        "        return result\n",
        "\n",
        "    tokenized_datasets = tokenized_datasets.map(\n",
        "        group_texts,\n",
        "        batched=True,\n",
        "        num_proc=args.preprocessing_num_workers,\n",
        "        load_from_cache_file=not args.overwrite_cache,\n",
        "    )\n",
        "    # 对我们想要一起批处理的数据集的项目应用正确的填充量，动态填充 DataCollatorWithPadding、\n",
        "    # 在划分batch的时候再进行padding\n",
        "    train_dataset = tokenized_datasets[\"train\"]\n",
        "    eval_dataset = tokenized_datasets[\"validation\"]\n",
        "\n",
        "    \n",
        "    # bert的预训练模式一般分为，Masked language model (MLM)与 next sentence prediction(NSP)，主要利用MLM在自己的语料上进行预训练\n",
        "    # 预训练的模式为MLM，直接调用 DataCollatorForLanguageModeling API即可方便得以自己的语料定义生成器\n",
        "    data_collator = DataCollatorForLanguageModeling(tokenizer=tokenizer, mlm_probability=args.mlm_probability)\n",
        "    \n",
        "    # Dataset是一个包装类，用来将数据包装为Dataset类，然后传入DataLoader中，我们再使用DataLoader这个类来更加快捷的对数据进行操作。\n",
        "    # DataLoader是一个比较重要的类，它为我们提供的常用操作有：batch_size(每个batch的大小), \n",
        "    # shuffle(是否进行shuffle操作), num_workers(加载数据的时候使用几个子进程)\n",
        "    train_dataloader = DataLoader(\n",
        "        train_dataset, shuffle=True, collate_fn=data_collator, batch_size=args.per_device_train_batch_size\n",
        "    )\n",
        "    eval_dataloader = DataLoader(eval_dataset, collate_fn=data_collator, batch_size=args.per_device_eval_batch_size)\n",
        "\n",
        "    \n",
        "    no_decay = [\"bias\", \"LayerNorm.weight\"]\n",
        "    optimizer_grouped_parameters = [\n",
        "        {\n",
        "            \"params\": [p for n, p in model.named_parameters() if not any(nd in n for nd in no_decay)],\n",
        "            \"weight_decay\": args.weight_decay,\n",
        "        },\n",
        "        {\n",
        "            \"params\": [p for n, p in model.named_parameters() if any(nd in n for nd in no_decay)],\n",
        "            \"weight_decay\": 0.0,\n",
        "        },\n",
        "    ]\n",
        "    optimizer = AdamW(optimizer_grouped_parameters, lr=args.learning_rate)\n",
        "\n",
        "    model, optimizer, train_dataloader, eval_dataloader = accelerator.prepare(\n",
        "        model, optimizer, train_dataloader, eval_dataloader\n",
        "    )\n",
        "\n",
        "    num_update_steps_per_epoch = math.ceil(len(train_dataloader) / args.gradient_accumulation_steps)\n",
        "    if args.max_train_steps is None:\n",
        "        args.max_train_steps = args.num_train_epochs * num_update_steps_per_epoch\n",
        "    else:\n",
        "        # 向上取整\n",
        "        args.num_train_epochs = math.ceil(args.max_train_steps / num_update_steps_per_epoch)\n",
        "\n",
        "    lr_scheduler = get_scheduler(\n",
        "        name=args.lr_scheduler_type,\n",
        "        optimizer=optimizer,\n",
        "        num_warmup_steps=args.num_warmup_steps,\n",
        "        num_training_steps=args.max_train_steps,\n",
        "    )\n",
        "\n",
        "    total_batch_size = args.per_device_train_batch_size * accelerator.num_processes * args.gradient_accumulation_steps\n",
        "\n",
        "    logger.info(\"***** Running training *****\")\n",
        "    logger.info(f\"  Num examples = {len(train_dataset)}\")\n",
        "    logger.info(f\"  Num Epochs = {args.num_train_epochs}\")\n",
        "    logger.info(f\"  Instantaneous batch size per device = {args.per_device_train_batch_size}\")\n",
        "    logger.info(f\"  Total train batch size (w. parallel, distributed & accumulation) = {total_batch_size}\")\n",
        "    logger.info(f\"  Gradient Accumulation steps = {args.gradient_accumulation_steps}\")\n",
        "    logger.info(f\"  Total optimization steps = {args.max_train_steps}\")\n",
        "    # Only show the progress bar once on each machine.\n",
        "    progress_bar = tqdm(range(args.max_train_steps), disable=not accelerator.is_local_main_process)\n",
        "    completed_steps = 0\n",
        "\n",
        "    for epoch in range(args.num_train_epochs):\n",
        "        model.train()\n",
        "        for step, batch in enumerate(train_dataloader):\n",
        "            outputs = model(**batch)\n",
        "            loss = outputs.loss\n",
        "            loss = loss / args.gradient_accumulation_steps\n",
        "            accelerator.backward(loss)\n",
        "            if step % args.gradient_accumulation_steps == 0 or step == len(train_dataloader) - 1:\n",
        "                optimizer.step()\n",
        "                lr_scheduler.step()\n",
        "                optimizer.zero_grad()\n",
        "                progress_bar.update(1)\n",
        "                completed_steps += 1\n",
        "\n",
        "            if completed_steps >= args.max_train_steps:\n",
        "                break\n",
        "\n",
        "        model.eval()\n",
        "        losses = []\n",
        "        for step, batch in enumerate(eval_dataloader):\n",
        "            with torch.no_grad():\n",
        "                outputs = model(**batch)\n",
        "\n",
        "            loss = outputs.loss\n",
        "            losses.append(accelerator.gather(loss.repeat(args.per_device_eval_batch_size)))\n",
        "\n",
        "        losses = torch.cat(losses)\n",
        "        losses = losses[: len(eval_dataset)]\n",
        "        perplexity = math.exp(torch.mean(losses))\n",
        "\n",
        "        logger.info(f\"epoch {epoch}: perplexity: {perplexity}\")\n",
        "\n",
        "    if args.output_dir is not None:\n",
        "        accelerator.wait_for_everyone()\n",
        "        unwrapped_model = accelerator.unwrap_model(model)\n",
        "        unwrapped_model.save_pretrained(args.output_dir, save_function=accelerator.save)\n",
        "if __name__ == \"__main__\":\n",
        "    main()      "
      ],
      "metadata": {
        "id": "ZNYfgw1GXz8k",
        "colab": {
          "base_uri": "https://localhost:8080/"
        },
        "outputId": "44b8307c-3c97-41d6-b5e2-1383f974dafe"
      },
      "execution_count": null,
      "outputs": [
        {
          "output_type": "stream",
          "name": "stdout",
          "text": [
            "Drive already mounted at /content/drive; to attempt to forcibly remount, call drive.mount(\"/content/drive\", force_remount=True).\n"
          ]
        }
      ]
    },
    {
      "cell_type": "code",
      "source": [
        ""
      ],
      "metadata": {
        "id": "SbZCkRv7IMuj"
      },
      "execution_count": null,
      "outputs": []
    },
    {
      "cell_type": "code",
      "source": [
        ""
      ],
      "metadata": {
        "id": "BAG4loyEIMxG"
      },
      "execution_count": null,
      "outputs": []
    }
  ]
}